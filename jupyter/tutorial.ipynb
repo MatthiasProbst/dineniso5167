{
 "cells": [
  {
   "cell_type": "code",
   "execution_count": null,
   "metadata": {},
   "outputs": [],
   "source": [
    "from dineniso5167 import core\n",
    "import numpy as np\n",
    "import matplotlib.pyplot as plt"
   ]
  },
  {
   "cell_type": "code",
   "execution_count": null,
   "metadata": {
    "pycharm": {
     "name": "#%%\n"
    }
   },
   "outputs": [],
   "source": [
    "time = np.arange(0, 100, 1)\n",
    "dp = np.random.random(100)\n",
    "plt.plot(time, dp)\n",
    "plt.xlabel('Time [s]')\n",
    "plt.ylabel('Orifice Pressure Difference [s]')\n",
    "plt.show()"
   ]
  },
  {
   "cell_type": "code",
   "execution_count": null,
   "metadata": {
    "pycharm": {
     "name": "#%%\n"
    }
   },
   "outputs": [],
   "source": [
    "vfr, vfr_min, vfr_max, dp_loss = core.compute_volume_flow_rate(dp, 76, 140, 'mm', 101325, 25., 0.4, 1.4,\n",
    "                                                               verbose=False)"
   ]
  },
  {
   "cell_type": "code",
   "execution_count": null,
   "metadata": {
    "pycharm": {
     "name": "#%%\n"
    }
   },
   "outputs": [],
   "source": [
    "plt.fill_between(time, vfr_min, vfr_max)\n",
    "plt.plot(time, vfr, 'k-')\n",
    "plt.xlabel('Time [s]')\n",
    "plt.ylabel('Orifice Pressure Difference [s]')\n",
    "plt.show()"
   ]
  },
  {
   "cell_type": "markdown",
   "metadata": {},
   "source": [
    "# Maximal error due to unknown rel humidity:"
   ]
  },
  {
   "cell_type": "code",
   "execution_count": null,
   "metadata": {},
   "outputs": [],
   "source": [
    "vfr1, vfr_min, vfr_max, dp_loss = core.compute_volume_flow_rate(100, 76, 140, 'mm', 101325, 25., 0, 1.4,\n",
    "                                                               verbose=False)\n",
    "vfr2, vfr_min, vfr_max, dp_loss = core.compute_volume_flow_rate(100, 76, 140, 'mm', 101325, 25., 1, 1.4,\n",
    "                                                               verbose=False)"
   ]
  },
  {
   "cell_type": "code",
   "execution_count": null,
   "metadata": {},
   "outputs": [],
   "source": [
    "(vfr2-vfr1)/(0.5*(vfr1+vfr2))*100"
   ]
  },
  {
   "cell_type": "code",
   "execution_count": null,
   "metadata": {},
   "outputs": [],
   "source": [
    "plt.figure()\n",
    "for phi in np.arange(0, 1.1, 0.2):\n",
    "    vfr, vfr_min, vfr_max, dp_loss = core.compute_volume_flow_rate(100, 76, 140, 'mm', 101325, 25., phi, 1.4,\n",
    "                                                               verbose=False)\n",
    "    plt.scatter(phi, vfr)\n",
    "plt.show()"
   ]
  },
  {
   "cell_type": "code",
   "execution_count": null,
   "metadata": {},
   "outputs": [],
   "source": []
  }
 ],
 "metadata": {
  "kernelspec": {
   "display_name": "Python 3",
   "language": "python",
   "name": "python3"
  },
  "language_info": {
   "codemirror_mode": {
    "name": "ipython",
    "version": 3
   },
   "file_extension": ".py",
   "mimetype": "text/x-python",
   "name": "python",
   "nbconvert_exporter": "python",
   "pygments_lexer": "ipython3",
   "version": "3.7.9"
  }
 },
 "nbformat": 4,
 "nbformat_minor": 1
}
